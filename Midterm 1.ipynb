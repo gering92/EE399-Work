{
 "cells": [
  {
   "cell_type": "markdown",
   "id": "574114f8",
   "metadata": {},
   "source": [
    "## Midterm 1 \n",
    "### Professor Kutz\n",
    "### EE 399\n",
    "### By: Gerin George"
   ]
  },
  {
   "cell_type": "code",
   "execution_count": 101,
   "id": "49d61277",
   "metadata": {},
   "outputs": [],
   "source": [
    "import numpy as np\n",
    "from scipy.io import loadmat\n",
    "from sklearn.decomposition import PCA\n",
    "from sklearn.discriminant_analysis import LinearDiscriminantAnalysis\n",
    "from sklearn.metrics import accuracy_score\n",
    "from sklearn.svm import SVC\n",
    "from sklearn.tree import DecisionTreeClassifier\n",
    "\n",
    "results=loadmat('yalefaces.mat')\n",
    "X=results['X']"
   ]
  },
  {
   "cell_type": "code",
   "execution_count": 102,
   "id": "362a0ee8",
   "metadata": {},
   "outputs": [
    {
     "name": "stdout",
     "output_type": "stream",
     "text": [
      "[0 0 0 0 0 0 0 0 0 0 0 0 0 0 0 0 0 0 0 0 0 0 0 0 0 0 0 0 0 0 0 0 0 0 0 0 0\n",
      " 0 0 0 0 0 0 0 0 0 0 0 0 0 0 0 0 0 0 0 0 0 0 0 0 0 0 0 1 1 1 1 1 1 1 1 1 1\n",
      " 1 1 1 1 1 1 1 1 1 1 1 1 1 1 1 1 1 1 1 1 1 1 1 1 1 1 1 1 1 1 1 1 1 1 1 1 1\n",
      " 1 1 1 1 1 1 1 1 1 1 1 1 1 1 1 1 1 2 2 2 2 2 2 2 2 2 2 2 2 2 2 2 2 2 2 2 2\n",
      " 2 2 2 2 2 2 2 2 2 2 2 2 2 2 2 2 2 2 2 2 2 2 2 2 2 2 2 2 2 2 2 2 2 2 2 2 2\n",
      " 2 2 2 2 2 2 2 3 3 3 3 3 3 3 3 3 3 3 3 3 3 3 3 3 3 3 3 3 3 3 3 3 3 3 3 3 3\n",
      " 3 3 3 3 3 3 3 3 3 3 3 3 3 3 3 3 3 3 3 3 3 3 3 3 3 3 3 3 3 3 3 3 3 3 4 4 4\n",
      " 4 4 4 4 4 4 4 4 4 4 4 4 4 4 4 4 4 4 4 4 4 4 4 4 4 4 4 4 4 4 4 4 4 4 4 4 4\n",
      " 4 4 4 4 4 4 4 4 4 4 4 4 4 4 4 4 4 4 4 4 4 4 4 4 5 5 5 5 5 5 5 5 5 5 5 5 5\n",
      " 5 5 5 5 5 5 5 5 5 5 5 5 5 5 5 5 5 5 5 5 5 5 5 5 5 5 5 5 5 5 5 5 5 5 5 5 5\n",
      " 5 5 5 5 5 5 5 5 5 5 5 5 5 5 6 6 6 6 6 6 6 6 6 6 6 6 6 6 6 6 6 6 6 6 6 6 6\n",
      " 6 6 6 6 6 6 6 6 6 6 6 6 6 6 6 6 6 6 6 6 6 6 6 6 6 6 6 6 6 6 6 6 6 6 6 6 6\n",
      " 6 6 6 6 7 7 7 7 7 7 7 7 7 7 7 7 7 7 7 7 7 7 7 7 7 7 7 7 7 7 7 7 7 7 7 7 7\n",
      " 7 7 7 7 7 7 7 7 7 7 7 7 7 7 7 7 7 7 7 7 7 7 7 7 7 7 7 7 7 7 7 8 8 8 8 8 8\n",
      " 8 8 8 8 8 8 8 8 8 8 8 8 8 8 8 8 8 8 8 8 8 8 8 8 8 8 8 8 8 8 8 8 8 8 8 8 8\n",
      " 8 8 8 8 8 8 8 8 8 8 8 8 8 8 8 8 8 8 8 8 8 9 9 9 9 9 9 9 9 9 9 9 9 9 9 9 9\n",
      " 9 9 9 9 9 9 9 9 9 9 9 9 9 9 9 9 9 9 9 9 9 9 9 9 9 9 9 9 9 9 9 9 9 9 9 9 9\n",
      " 9 9 9 9 9 9 9 9 9 9 9]\n"
     ]
    }
   ],
   "source": [
    "# Labeling faces from 0-9\n",
    "lighting_scenes_per_face = 64\n",
    "faces_to_label = 10\n",
    "\n",
    "columns_per_face = lighting_scenes_per_face\n",
    "\n",
    "labels = np.repeat(np.arange(faces_to_label), columns_per_face)\n",
    "\n",
    "print(labels)\n"
   ]
  },
  {
   "cell_type": "code",
   "execution_count": 103,
   "id": "117abf2a",
   "metadata": {},
   "outputs": [
    {
     "name": "stdout",
     "output_type": "stream",
     "text": [
      "[[0.00392157 0.01740196 0.57573529 ... 0.18995098 0.52156863 0.        ]\n",
      " [0.00784314 0.00784314 0.53946078 ... 0.17107843 0.47205882 0.00661765]\n",
      " [0.00784314 0.00784314 0.48210784 ... 0.17696078 0.46593137 0.00784314]\n",
      " ...\n",
      " [0.51813725 0.0752451  0.03137255 ... 0.41372549 0.08823529 0.00539216]\n",
      " [0.51813725 0.07058824 0.03137255 ... 0.40147059 0.08112745 0.02205882]\n",
      " [0.50269608 0.05882353 0.03137255 ... 0.39215686 0.06911765 0.02745098]]\n"
     ]
    }
   ],
   "source": [
    "# Part A: \n",
    "\n",
    "lighting_scenes_per_face = 64\n",
    "faces_to_extract = 10\n",
    "\n",
    "columns_to_extract = faces_to_extract * lighting_scenes_per_face\n",
    "\n",
    "first_10_faces = X[:, :columns_to_extract]\n",
    "\n",
    "print(first_10_faces)"
   ]
  },
  {
   "cell_type": "code",
   "execution_count": 104,
   "id": "cf325194",
   "metadata": {},
   "outputs": [],
   "source": [
    "# Part B:\n",
    "\n",
    "np.random.seed(42) \n",
    "\n",
    "lighting_scenes_per_face = 64\n",
    "faces_to_extract = 10\n",
    "test_scenes_per_face = 14\n",
    "train_scenes_per_face = 50\n",
    "\n",
    "# Shuffle lighting scenes within each face\n",
    "for i in range(faces_to_extract):\n",
    "    face_start = i * lighting_scenes_per_face\n",
    "    face_end = (i + 1) * lighting_scenes_per_face\n",
    "    np.random.shuffle(first_10_faces[:, face_start:face_end])\n",
    "\n",
    "# Initialize training and test matrices\n",
    "train_data = np.zeros((1024, faces_to_extract * train_scenes_per_face))\n",
    "test_data = np.zeros((1024, faces_to_extract * test_scenes_per_face))\n",
    "\n",
    "# Split the data into training and test sets\n",
    "for i in range(faces_to_extract):\n",
    "    face_start = i * lighting_scenes_per_face\n",
    "    train_start = i * train_scenes_per_face\n",
    "    test_start = i * test_scenes_per_face\n",
    "    \n",
    "    train_data[:, train_start:train_start + train_scenes_per_face] = first_10_faces[:, face_start:face_start + train_scenes_per_face]\n",
    "    test_data[:, test_start:test_start + test_scenes_per_face] = first_10_faces[:, face_start + train_scenes_per_face:face_start + lighting_scenes_per_face]\n"
   ]
  },
  {
   "cell_type": "code",
   "execution_count": 105,
   "id": "d2e50dab",
   "metadata": {},
   "outputs": [
    {
     "name": "stdout",
     "output_type": "stream",
     "text": [
      "LDA Classification accuracy: 66.43%\n"
     ]
    }
   ],
   "source": [
    "# Part C:\n",
    "\n",
    "# Perform PCA on the training data\n",
    "n_modes = 20\n",
    "pca = PCA(n_components=n_modes)\n",
    "pca_train_data = pca.fit_transform(train_data.T)\n",
    "\n",
    "# Create training labels\n",
    "train_labels = np.repeat(np.arange(faces_to_extract), train_scenes_per_face)\n",
    "\n",
    "# Perform LDA on the reduced training data\n",
    "lda = LinearDiscriminantAnalysis()\n",
    "lda.fit(pca_train_data, train_labels)\n",
    "\n",
    "# Transform the test data using the same PCA model\n",
    "pca_test_data = pca.transform(test_data.T)\n",
    "\n",
    "# Create test labels\n",
    "test_labels = np.repeat(np.arange(faces_to_extract), test_scenes_per_face)\n",
    "\n",
    "# Make predictions on the reduced test data\n",
    "predictions = lda.predict(pca_test_data)\n",
    "\n",
    "# Calculate classification accuracy\n",
    "accuracy = accuracy_score(test_labels, predictions)\n",
    "print(f\"LDA Classification accuracy: {accuracy * 100:.2f}%\")"
   ]
  },
  {
   "cell_type": "code",
   "execution_count": 106,
   "id": "8b3b516c",
   "metadata": {},
   "outputs": [
    {
     "name": "stdout",
     "output_type": "stream",
     "text": [
      "SVM classification accuracy: 84.29%\n",
      "Decision Tree classification accuracy: 85.71%\n"
     ]
    }
   ],
   "source": [
    "# Part D:\n",
    "\n",
    "# Create training labels\n",
    "train_labels = np.repeat(np.arange(faces_to_extract), train_scenes_per_face)\n",
    "\n",
    "# Train SVM on the reduced training data\n",
    "svm = SVC(random_state=42)\n",
    "svm.fit(pca_train_data, train_labels)\n",
    "\n",
    "# Transform the test data using the same PCA model\n",
    "pca_test_data = pca.transform(test_data.T)\n",
    "\n",
    "# Create test labels\n",
    "test_labels = np.repeat(np.arange(faces_to_extract), test_scenes_per_face)\n",
    "\n",
    "# Make predictions on the reduced test data\n",
    "svm_predictions = svm.predict(pca_test_data)\n",
    "\n",
    "# Calculate SVM classification accuracy\n",
    "svm_accuracy = accuracy_score(test_labels, svm_predictions)\n",
    "print(f\"SVM classification accuracy: {svm_accuracy * 100:.2f}%\")\n",
    "\n",
    "# Train Decision Tree on the reduced training data\n",
    "dt = DecisionTreeClassifier(random_state=42)\n",
    "dt.fit(pca_train_data, train_labels)\n",
    "\n",
    "# Make predictions on the reduced test data\n",
    "dt_predictions = dt.predict(pca_test_data)\n",
    "\n",
    "# Calculate Decision Tree classification accuracy\n",
    "dt_accuracy = accuracy_score(test_labels, dt_predictions)\n",
    "print(f\"Decision Tree classification accuracy: {dt_accuracy * 100:.2f}%\")"
   ]
  },
  {
   "cell_type": "markdown",
   "id": "dc2d90cc",
   "metadata": {},
   "source": [
    "LDA appears to be the worst at classifying faces with accuracy. SVM and Decision Tree perform similarly, although with different random states one can perform better than the other. For me, Decision Trees generally performed the best, although this margin is very small. LDA performs better when the data is linearly separable, which this is not. SVM and Decision Trees performed better because SVM is effective at handling hihg-dimensional data and can capture non-linear relationships better through the use of kernel functions. Decision trees can handle both linear and non-linear relationships, so it can perform better than LDA here. "
   ]
  },
  {
   "cell_type": "code",
   "execution_count": null,
   "id": "3e937d9e",
   "metadata": {},
   "outputs": [],
   "source": []
  }
 ],
 "metadata": {
  "kernelspec": {
   "display_name": "Python 3 (ipykernel)",
   "language": "python",
   "name": "python3"
  },
  "language_info": {
   "codemirror_mode": {
    "name": "ipython",
    "version": 3
   },
   "file_extension": ".py",
   "mimetype": "text/x-python",
   "name": "python",
   "nbconvert_exporter": "python",
   "pygments_lexer": "ipython3",
   "version": "3.9.7"
  }
 },
 "nbformat": 4,
 "nbformat_minor": 5
}
